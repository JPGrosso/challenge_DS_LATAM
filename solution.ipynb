{
 "cells": [
  {
   "cell_type": "code",
   "execution_count": 1,
   "metadata": {},
   "outputs": [
    {
     "name": "stderr",
     "output_type": "stream",
     "text": [
      "C:\\Users\\juan.grosso\\AppData\\Local\\Continuum\\anaconda3\\lib\\site-packages\\pandas\\compat\\_optional.py:138: UserWarning: Pandas requires version '2.7.0' or newer of 'numexpr' (version '2.6.9' currently installed).\n",
      "  warnings.warn(msg, UserWarning)\n",
      "C:\\Users\\juan.grosso\\AppData\\Local\\Continuum\\anaconda3\\lib\\site-packages\\statsmodels\\tools\\_testing.py:19: FutureWarning: pandas.util.testing is deprecated. Use the functions in the public API at pandas.testing instead.\n",
      "  import pandas.util.testing as tm\n"
     ]
    }
   ],
   "source": [
    "import numpy as np\n",
    "import pandas as pd\n",
    "import seaborn as sn\n",
    "from sklearn.metrics import r2_score\n",
    "from sklearn.preprocessing import LabelEncoder\n",
    "from sklearn.preprocessing import OneHotEncoder\n",
    "from matplotlib import pyplot as plt\n",
    "import seaborn as sns\n",
    "%matplotlib inline\n",
    "from datetime import timedelta\n",
    "from datetime import datetime"
   ]
  },
  {
   "cell_type": "code",
   "execution_count": 47,
   "metadata": {},
   "outputs": [
    {
     "name": "stdout",
     "output_type": "stream",
     "text": [
      "(68206, 18)\n"
     ]
    }
   ],
   "source": [
    "#archivo provisto por el desafío, cambiar path según directorio de trabajo actual\n",
    "df = pd.read_csv(\"C:/Users/juan.grosso/Documents/LATAM/challenge_DS_LATAM/dataset_SCL.csv\", encoding = 'utf-8', engine ='python')\n",
    "\n",
    "print(df.shape)"
   ]
  },
  {
   "cell_type": "code",
   "execution_count": 48,
   "metadata": {},
   "outputs": [
    {
     "data": {
      "text/html": [
       "<div>\n",
       "<style scoped>\n",
       "    .dataframe tbody tr th:only-of-type {\n",
       "        vertical-align: middle;\n",
       "    }\n",
       "\n",
       "    .dataframe tbody tr th {\n",
       "        vertical-align: top;\n",
       "    }\n",
       "\n",
       "    .dataframe thead th {\n",
       "        text-align: right;\n",
       "    }\n",
       "</style>\n",
       "<table border=\"1\" class=\"dataframe\">\n",
       "  <thead>\n",
       "    <tr style=\"text-align: right;\">\n",
       "      <th></th>\n",
       "      <th>Fecha-I</th>\n",
       "      <th>Vlo-I</th>\n",
       "      <th>Ori-I</th>\n",
       "      <th>Des-I</th>\n",
       "      <th>Emp-I</th>\n",
       "      <th>Fecha-O</th>\n",
       "      <th>Vlo-O</th>\n",
       "      <th>Ori-O</th>\n",
       "      <th>Des-O</th>\n",
       "      <th>Emp-O</th>\n",
       "      <th>DIA</th>\n",
       "      <th>MES</th>\n",
       "      <th>AÑO</th>\n",
       "      <th>DIANOM</th>\n",
       "      <th>TIPOVUELO</th>\n",
       "      <th>OPERA</th>\n",
       "      <th>SIGLAORI</th>\n",
       "      <th>SIGLADES</th>\n",
       "    </tr>\n",
       "  </thead>\n",
       "  <tbody>\n",
       "    <tr>\n",
       "      <th>0</th>\n",
       "      <td>2017-01-01 23:30:00</td>\n",
       "      <td>226</td>\n",
       "      <td>SCEL</td>\n",
       "      <td>KMIA</td>\n",
       "      <td>AAL</td>\n",
       "      <td>2017-01-01 23:33:00</td>\n",
       "      <td>226</td>\n",
       "      <td>SCEL</td>\n",
       "      <td>KMIA</td>\n",
       "      <td>AAL</td>\n",
       "      <td>1</td>\n",
       "      <td>1</td>\n",
       "      <td>2017</td>\n",
       "      <td>Domingo</td>\n",
       "      <td>I</td>\n",
       "      <td>American Airlines</td>\n",
       "      <td>Santiago</td>\n",
       "      <td>Miami</td>\n",
       "    </tr>\n",
       "    <tr>\n",
       "      <th>1</th>\n",
       "      <td>2017-01-02 23:30:00</td>\n",
       "      <td>226</td>\n",
       "      <td>SCEL</td>\n",
       "      <td>KMIA</td>\n",
       "      <td>AAL</td>\n",
       "      <td>2017-01-02 23:39:00</td>\n",
       "      <td>226</td>\n",
       "      <td>SCEL</td>\n",
       "      <td>KMIA</td>\n",
       "      <td>AAL</td>\n",
       "      <td>2</td>\n",
       "      <td>1</td>\n",
       "      <td>2017</td>\n",
       "      <td>Lunes</td>\n",
       "      <td>I</td>\n",
       "      <td>American Airlines</td>\n",
       "      <td>Santiago</td>\n",
       "      <td>Miami</td>\n",
       "    </tr>\n",
       "    <tr>\n",
       "      <th>2</th>\n",
       "      <td>2017-01-03 23:30:00</td>\n",
       "      <td>226</td>\n",
       "      <td>SCEL</td>\n",
       "      <td>KMIA</td>\n",
       "      <td>AAL</td>\n",
       "      <td>2017-01-03 23:39:00</td>\n",
       "      <td>226</td>\n",
       "      <td>SCEL</td>\n",
       "      <td>KMIA</td>\n",
       "      <td>AAL</td>\n",
       "      <td>3</td>\n",
       "      <td>1</td>\n",
       "      <td>2017</td>\n",
       "      <td>Martes</td>\n",
       "      <td>I</td>\n",
       "      <td>American Airlines</td>\n",
       "      <td>Santiago</td>\n",
       "      <td>Miami</td>\n",
       "    </tr>\n",
       "    <tr>\n",
       "      <th>3</th>\n",
       "      <td>2017-01-04 23:30:00</td>\n",
       "      <td>226</td>\n",
       "      <td>SCEL</td>\n",
       "      <td>KMIA</td>\n",
       "      <td>AAL</td>\n",
       "      <td>2017-01-04 23:33:00</td>\n",
       "      <td>226</td>\n",
       "      <td>SCEL</td>\n",
       "      <td>KMIA</td>\n",
       "      <td>AAL</td>\n",
       "      <td>4</td>\n",
       "      <td>1</td>\n",
       "      <td>2017</td>\n",
       "      <td>Miercoles</td>\n",
       "      <td>I</td>\n",
       "      <td>American Airlines</td>\n",
       "      <td>Santiago</td>\n",
       "      <td>Miami</td>\n",
       "    </tr>\n",
       "    <tr>\n",
       "      <th>4</th>\n",
       "      <td>2017-01-05 23:30:00</td>\n",
       "      <td>226</td>\n",
       "      <td>SCEL</td>\n",
       "      <td>KMIA</td>\n",
       "      <td>AAL</td>\n",
       "      <td>2017-01-05 23:28:00</td>\n",
       "      <td>226</td>\n",
       "      <td>SCEL</td>\n",
       "      <td>KMIA</td>\n",
       "      <td>AAL</td>\n",
       "      <td>5</td>\n",
       "      <td>1</td>\n",
       "      <td>2017</td>\n",
       "      <td>Jueves</td>\n",
       "      <td>I</td>\n",
       "      <td>American Airlines</td>\n",
       "      <td>Santiago</td>\n",
       "      <td>Miami</td>\n",
       "    </tr>\n",
       "  </tbody>\n",
       "</table>\n",
       "</div>"
      ],
      "text/plain": [
       "               Fecha-I Vlo-I Ori-I Des-I Emp-I              Fecha-O Vlo-O  \\\n",
       "0  2017-01-01 23:30:00   226  SCEL  KMIA   AAL  2017-01-01 23:33:00   226   \n",
       "1  2017-01-02 23:30:00   226  SCEL  KMIA   AAL  2017-01-02 23:39:00   226   \n",
       "2  2017-01-03 23:30:00   226  SCEL  KMIA   AAL  2017-01-03 23:39:00   226   \n",
       "3  2017-01-04 23:30:00   226  SCEL  KMIA   AAL  2017-01-04 23:33:00   226   \n",
       "4  2017-01-05 23:30:00   226  SCEL  KMIA   AAL  2017-01-05 23:28:00   226   \n",
       "\n",
       "  Ori-O Des-O Emp-O  DIA  MES   AÑO     DIANOM TIPOVUELO              OPERA  \\\n",
       "0  SCEL  KMIA   AAL    1    1  2017    Domingo         I  American Airlines   \n",
       "1  SCEL  KMIA   AAL    2    1  2017      Lunes         I  American Airlines   \n",
       "2  SCEL  KMIA   AAL    3    1  2017     Martes         I  American Airlines   \n",
       "3  SCEL  KMIA   AAL    4    1  2017  Miercoles         I  American Airlines   \n",
       "4  SCEL  KMIA   AAL    5    1  2017     Jueves         I  American Airlines   \n",
       "\n",
       "   SIGLAORI SIGLADES  \n",
       "0  Santiago    Miami  \n",
       "1  Santiago    Miami  \n",
       "2  Santiago    Miami  \n",
       "3  Santiago    Miami  \n",
       "4  Santiago    Miami  "
      ]
     },
     "execution_count": 48,
     "metadata": {},
     "output_type": "execute_result"
    }
   ],
   "source": [
    "df.head()"
   ]
  },
  {
   "cell_type": "code",
   "execution_count": 49,
   "metadata": {},
   "outputs": [
    {
     "name": "stdout",
     "output_type": "stream",
     "text": [
      "<class 'pandas.core.frame.DataFrame'>\n",
      "RangeIndex: 68206 entries, 0 to 68205\n",
      "Data columns (total 18 columns):\n",
      " #   Column     Non-Null Count  Dtype \n",
      "---  ------     --------------  ----- \n",
      " 0   Fecha-I    68206 non-null  object\n",
      " 1   Vlo-I      68206 non-null  object\n",
      " 2   Ori-I      68206 non-null  object\n",
      " 3   Des-I      68206 non-null  object\n",
      " 4   Emp-I      68206 non-null  object\n",
      " 5   Fecha-O    68206 non-null  object\n",
      " 6   Vlo-O      68205 non-null  object\n",
      " 7   Ori-O      68206 non-null  object\n",
      " 8   Des-O      68206 non-null  object\n",
      " 9   Emp-O      68206 non-null  object\n",
      " 10  DIA        68206 non-null  int64 \n",
      " 11  MES        68206 non-null  int64 \n",
      " 12  AÑO        68206 non-null  int64 \n",
      " 13  DIANOM     68206 non-null  object\n",
      " 14  TIPOVUELO  68206 non-null  object\n",
      " 15  OPERA      68206 non-null  object\n",
      " 16  SIGLAORI   68206 non-null  object\n",
      " 17  SIGLADES   68206 non-null  object\n",
      "dtypes: int64(3), object(15)\n",
      "memory usage: 9.4+ MB\n"
     ]
    }
   ],
   "source": [
    "df.info()"
   ]
  },
  {
   "cell_type": "code",
   "execution_count": 50,
   "metadata": {},
   "outputs": [],
   "source": [
    "for c in df.select_dtypes(\"object\").columns:\n",
    "    df[c] = df[c].astype(\"category\")"
   ]
  },
  {
   "cell_type": "code",
   "execution_count": 51,
   "metadata": {},
   "outputs": [],
   "source": [
    "#Deleted Nan\n",
    "df.dropna(inplace = True)"
   ]
  },
  {
   "cell_type": "code",
   "execution_count": 9,
   "metadata": {},
   "outputs": [
    {
     "data": {
      "text/plain": [
       "array([[<matplotlib.axes._subplots.AxesSubplot object at 0x0000027FA74766D8>,\n",
       "        <matplotlib.axes._subplots.AxesSubplot object at 0x0000027FA74A1128>],\n",
       "       [<matplotlib.axes._subplots.AxesSubplot object at 0x0000027FA74BE978>,\n",
       "        <matplotlib.axes._subplots.AxesSubplot object at 0x0000027FA74FD780>]],\n",
       "      dtype=object)"
      ]
     },
     "execution_count": 9,
     "metadata": {},
     "output_type": "execute_result"
    },
    {
     "data": {
      "image/png": "[encoded data removed]",
      "text/plain": [
       "<Figure size 432x288 with 4 Axes>"
      ]
     },
     "metadata": {
      "needs_background": "light"
     },
     "output_type": "display_data"
    }
   ],
   "source": [
    "#distribución a lo largo del tiempo año, mes, dia\n",
    "df.hist()"
   ]
  },
  {
   "cell_type": "code",
   "execution_count": 10,
   "metadata": {},
   "outputs": [],
   "source": [
    "#explorando diferentes metricas groupby + count()\n",
    "dopera = df.groupby(df['OPERA'])['Fecha-I'].count()"
   ]
  },
  {
   "cell_type": "code",
   "execution_count": 15,
   "metadata": {},
   "outputs": [
    {
     "data": {
      "text/plain": [
       "OPERA\n",
       "Plus Ultra Lineas Aereas       49\n",
       "Austral                        74\n",
       "Lacsa                          92\n",
       "Qantas Airways                195\n",
       "British Airways               205\n",
       "K.L.M.                        251\n",
       "Alitalia                      259\n",
       "Oceanair Linhas Aereas        279\n",
       "United Airlines               335\n",
       "Aeromexico                    351\n",
       "Delta Air                     358\n",
       "Air France                    358\n",
       "Iberia                        362\n",
       "Air Canada                    565\n",
       "American Airlines             757\n",
       "Gol Trans                     806\n",
       "JetSmart SPA                 1095\n",
       "Avianca                      1152\n",
       "Latin American Wings         1673\n",
       "Copa Air                     1850\n",
       "Aerolineas Argentinas        1949\n",
       "Sky Airline                 14298\n",
       "Grupo LATAM                 40892\n",
       "Name: Fecha-I, dtype: int64"
      ]
     },
     "execution_count": 15,
     "metadata": {},
     "output_type": "execute_result"
    }
   ],
   "source": [
    "dopera.sort_values( inplace=True)\n",
    "dopera"
   ]
  },
  {
   "cell_type": "code",
   "execution_count": 17,
   "metadata": {},
   "outputs": [
    {
     "data": {
      "text/plain": [
       "SIGLADES\n",
       "Washington             1\n",
       "Cochabamba             1\n",
       "Pisco, Peru            1\n",
       "Puerto Stanley         1\n",
       "Cataratas Iguacu       2\n",
       "                    ... \n",
       "Puerto Montt        4357\n",
       "Calama              5146\n",
       "Lima                5269\n",
       "Antofagasta         5786\n",
       "Buenos Aires        6335\n",
       "Name: Fecha-I, Length: 62, dtype: int64"
      ]
     },
     "execution_count": 17,
     "metadata": {},
     "output_type": "execute_result"
    }
   ],
   "source": [
    "#cuantos vuelos recibe cada destino\n",
    "destino = df.groupby(df['SIGLADES'])['Fecha-I'].count()\n",
    "destino.sort_values( inplace=True)\n",
    "destino"
   ]
  },
  {
   "cell_type": "code",
   "execution_count": 20,
   "metadata": {},
   "outputs": [
    {
     "data": {
      "text/plain": [
       "<matplotlib.axes._subplots.AxesSubplot at 0x27fa7639080>"
      ]
     },
     "execution_count": 20,
     "metadata": {},
     "output_type": "execute_result"
    },
    {
     "data": {
      "image/png": "[encoded data removed]",
      "text/plain": [
       "<Figure size 432x288 with 1 Axes>"
      ]
     },
     "metadata": {
      "needs_background": "light"
     },
     "output_type": "display_data"
    }
   ],
   "source": [
    "destino.hist(bins=20)"
   ]
  },
  {
   "cell_type": "code",
   "execution_count": 29,
   "metadata": {},
   "outputs": [
    {
     "data": {
      "image/png": "[encoded data removed]",
      "text/plain": [
       "<Figure size 1008x360 with 1 Axes>"
      ]
     },
     "metadata": {
      "needs_background": "light"
     },
     "output_type": "display_data"
    }
   ],
   "source": [
    "#de donde salen los vuelos según compañia\n",
    "plt.figure(figsize=(14,5))\n",
    "plt.scatter(df['Ori-I'],df['OPERA'])\n",
    "plt.show()"
   ]
  },
  {
   "cell_type": "code",
   "execution_count": 35,
   "metadata": {},
   "outputs": [
    {
     "data": {
      "image/png": "[encoded data removed]",
      "text/plain": [
       "<Figure size 1296x1800 with 1 Axes>"
      ]
     },
     "metadata": {
      "needs_background": "light"
     },
     "output_type": "display_data"
    }
   ],
   "source": [
    "#a dónde van los vuelos segun compañia\n",
    "plt.figure(figsize=(18,25))\n",
    "plt.scatter(df['Emp-O'],df['Des-I'])\n",
    "plt.show()"
   ]
  },
  {
   "cell_type": "code",
   "execution_count": 36,
   "metadata": {},
   "outputs": [
    {
     "data": {
      "image/png": "[encoded data removed]",
      "text/plain": [
       "<Figure size 1296x1800 with 1 Axes>"
      ]
     },
     "metadata": {
      "needs_background": "light"
     },
     "output_type": "display_data"
    }
   ],
   "source": [
    "#hay diferencia en los destinos según del día de la semana\n",
    "plt.figure(figsize=(18,25))\n",
    "plt.scatter(df['DIANOM'],df['Des-I'])\n",
    "plt.show()"
   ]
  },
  {
   "cell_type": "raw",
   "metadata": {},
   "source": [
    "1. ¿Cómo se distribuyen los datos? ¿Qué te llama la atención o cuál es tu conclusión sobre esto?\n",
    "Respecto de los datos hay una variedad de factores:\n",
    "-el dataset cuenta con información (18 variables) sobre 68206 vuelos\n",
    "-un vuelo no llegó a destino, dato incompleto eliminado\n",
    "-todos los datos corresponden al año 2017\n",
    "-el número de vuelos es uniforme a lo largo de los días de la semana, del mes (excepto leve subida el último día) y meses del año con la excepción de enero y diciembre que duplican en cantidad de vuelos.\n",
    "-todos los vuelos parten de santiago de chile\n",
    "-las aerolineas se especializan en los destinos excepto algunas generalistas que usan Santiago como Hub, como por ejemplo LATAM.\n",
    "-Muchos destinos reciben menos de 30 vuelos anuales (frecuencia charter?), la mayoria recibe cientos de vuelos y un grupo muy conectado recibe miles de vuelos, con Buenos Aires a la cabeza como la ciudad más conectada con Santiago.\n",
    "\n",
    "Esto permitiria implementar modelos de clasificación que ingresando la info de un vuelo planeado nos devuelva la probabilidad de que se atrase o no. Dada la limitada extanción temporal del dataset (solo año 2017) puede perder precisión al predecir vuelos de años alejados como 2022."
   ]
  },
  {
   "cell_type": "code",
   "execution_count": null,
   "metadata": {},
   "outputs": [],
   "source": []
  },
  {
   "cell_type": "code",
   "execution_count": 52,
   "metadata": {},
   "outputs": [],
   "source": [
    "#generar variables sintéticas\n",
    "#temporada_alta : 1 si Fecha-I está entre 15-Dic y 3-Mar, o 15-Jul y 31-Jul, o 11-Sep y 30-Sep, 0 si no.\n",
    "df['Fecha'] = pd.to_datetime(df['Fecha-I'], errors=\"coerce\")\n",
    "\n",
    "format = '%d-%m-%Y %H:%M:%S'\n",
    "df['temporada_alta'] = df.apply(lambda row: 1 if row.Fecha < datetime.strptime('03-03-2017 00:00:00', format)\n",
    "                                else 1 if datetime.strptime('15-12-2017 23:59:59', format)<row.Fecha\n",
    "                                else 1 if datetime.strptime('15-07-2017 23:59:59', format)<row.Fecha and row.Fecha < datetime.strptime('31-07-2017 00:00:00', format)\n",
    "                                else 1 if datetime.strptime('11-09-2017 23:59:59', format)<row.Fecha and row.Fecha < datetime.strptime('30-09-2017 00:00:00', format)\n",
    "                                else 0 , axis=1)"
   ]
  },
  {
   "cell_type": "code",
   "execution_count": 53,
   "metadata": {},
   "outputs": [
    {
     "data": {
      "text/plain": [
       "array([1, 0], dtype=int64)"
      ]
     },
     "execution_count": 53,
     "metadata": {},
     "output_type": "execute_result"
    }
   ],
   "source": [
    "df['temporada_alta'].unique()"
   ]
  },
  {
   "cell_type": "code",
   "execution_count": 62,
   "metadata": {},
   "outputs": [],
   "source": [
    "#dif_min : diferencia en minutos entre Fecha-O y Fecha-I .\n",
    "df['FechaO'] = pd.to_datetime(df['Fecha-O'], errors=\"coerce\")\n",
    "df['dif_min'] = df['FechaO']-df['Fecha']\n",
    "df['dif_min'] = pd.to_timedelta(df.dif_min).dt.seconds/60"
   ]
  },
  {
   "cell_type": "code",
   "execution_count": 67,
   "metadata": {},
   "outputs": [],
   "source": [
    "#atraso_15 : 1 si dif_min > 15, 0 si no\n",
    "df['atraso_15'] =  df.apply(lambda row: 1 if row.dif_min > 15\n",
    "                            else 0, axis = 1)"
   ]
  },
  {
   "cell_type": "code",
   "execution_count": 122,
   "metadata": {},
   "outputs": [],
   "source": [
    "#periodo_dia : mañana (entre 5:00 y 11:59), tarde (entre 12:00 y 18:59) y noche (entre 19:00 y 4:59), en base a Fecha-I \n",
    "df['FechaHrs'] = pd.to_datetime(df['Fecha-I'])\n",
    "df['FechaHrs'] = df.FechaHrs.dt.strftime('%H:%M')\n",
    "#seteo periodo default 'noche'\n",
    "df['periodo_dia'] = 'noche'\n",
    "df.loc[(df[\"FechaHrs\"] <= '11:59') & (df[\"FechaHrs\"] >'05:00'), \"periodo_dia\"]='mañana'\n",
    "df.loc[(df[\"FechaHrs\"] <= '18:59') & (df[\"FechaHrs\"] >'12:00'), \"periodo_dia\"]='tarde'"
   ]
  },
  {
   "cell_type": "code",
   "execution_count": 146,
   "metadata": {},
   "outputs": [],
   "source": [
    "#devuelvo el archivo solicitado, cambiar path según directorio de trabajo actual\n",
    "df1 = df[['temporada_alta','dif_min', 'atraso_15', 'periodo_dia']]\n",
    "df1.to_csv(\"C:/Users/juan.grosso/Documents/LATAM/challenge_DS_LATAM/synthetic_features.csv\", header=True)"
   ]
  },
  {
   "cell_type": "code",
   "execution_count": null,
   "metadata": {},
   "outputs": [],
   "source": []
  },
  {
   "cell_type": "raw",
   "metadata": {},
   "source": [
    "3. ¿Cómo se compone la tasa de atraso por destino, aerolínea, mes del año, día de la semana, temporada, tipo de vuelo?\n",
    "¿Qué variables esperarías que más influyeran en predecir atrasos?"
   ]
  },
  {
   "cell_type": "code",
   "execution_count": 138,
   "metadata": {},
   "outputs": [],
   "source": [
    "#Tasa de atraso según destino\n",
    "destino = df.groupby(df['SIGLADES'])['atraso_15'].sum() \n",
    "\n",
    "destino2 = df.groupby(df['SIGLADES'])['Fecha-I'].count()\n",
    "\n",
    "tasa_destino = destino/destino2"
   ]
  },
  {
   "cell_type": "code",
   "execution_count": 139,
   "metadata": {},
   "outputs": [
    {
     "data": {
      "text/plain": [
       "SIGLADES\n",
       "Antofagasta      0.457311\n",
       "Arica            0.403530\n",
       "Asuncion         0.431034\n",
       "Atlanta          0.664804\n",
       "Auckland N.Z.    0.501385\n",
       "                   ...   \n",
       "Toronto          0.586572\n",
       "Tucuman          0.526316\n",
       "Ushuia           0.666667\n",
       "Valdivia         0.463479\n",
       "Washington       0.000000\n",
       "Length: 62, dtype: float64"
      ]
     },
     "execution_count": 139,
     "metadata": {},
     "output_type": "execute_result"
    }
   ],
   "source": [
    "tasa_destino"
   ]
  },
  {
   "cell_type": "code",
   "execution_count": 140,
   "metadata": {},
   "outputs": [],
   "source": [
    "#Tasa de atraso según operador\n",
    "num = df.groupby(df['OPERA'])['atraso_15'].sum() \n",
    "\n",
    "den = df.groupby(df['OPERA'])['Fecha-I'].count()\n",
    "\n",
    "tasa_operador = num/den"
   ]
  },
  {
   "cell_type": "code",
   "execution_count": 141,
   "metadata": {},
   "outputs": [
    {
     "data": {
      "text/plain": [
       "OPERA\n",
       "Aerolineas Argentinas       0.604926\n",
       "Aeromexico                  0.743590\n",
       "Air Canada                  0.638938\n",
       "Air France                  0.620112\n",
       "Alitalia                    0.478764\n",
       "American Airlines           0.713342\n",
       "Austral                     0.527027\n",
       "Avianca                     0.629340\n",
       "British Airways             0.429268\n",
       "Copa Air                    0.625946\n",
       "Delta Air                   0.664804\n",
       "Gol Trans                   0.745658\n",
       "Grupo LATAM                 0.369852\n",
       "Iberia                      0.450276\n",
       "JetSmart SPA                0.514155\n",
       "K.L.M.                      0.689243\n",
       "Lacsa                       0.554348\n",
       "Latin American Wings        0.601913\n",
       "Oceanair Linhas Aereas      0.577061\n",
       "Plus Ultra Lineas Aereas    0.714286\n",
       "Qantas Airways              0.635897\n",
       "Sky Airline                 0.511890\n",
       "United Airlines             0.800000\n",
       "dtype: float64"
      ]
     },
     "execution_count": 141,
     "metadata": {},
     "output_type": "execute_result"
    }
   ],
   "source": [
    "tasa_operador"
   ]
  },
  {
   "cell_type": "code",
   "execution_count": 142,
   "metadata": {},
   "outputs": [],
   "source": [
    "#Tasa de atraso según mes\n",
    "num = df.groupby(df['MES'])['atraso_15'].sum() \n",
    "\n",
    "den = df.groupby(df['MES'])['Fecha-I'].count()\n",
    "\n",
    "tasa_mes = num/den"
   ]
  },
  {
   "cell_type": "code",
   "execution_count": 143,
   "metadata": {},
   "outputs": [
    {
     "data": {
      "text/plain": [
       "MES\n",
       "1     0.430817\n",
       "2     0.431038\n",
       "3     0.467895\n",
       "4     0.430677\n",
       "5     0.437023\n",
       "6     0.457539\n",
       "7     0.464619\n",
       "8     0.445682\n",
       "9     0.456863\n",
       "10    0.456897\n",
       "11    0.438816\n",
       "12    0.451385\n",
       "dtype: float64"
      ]
     },
     "execution_count": 143,
     "metadata": {},
     "output_type": "execute_result"
    }
   ],
   "source": [
    "tasa_mes"
   ]
  },
  {
   "cell_type": "code",
   "execution_count": 144,
   "metadata": {},
   "outputs": [],
   "source": [
    "#Tasa de atraso según dia de la semana\n",
    "num = df.groupby(df['DIANOM'])['atraso_15'].sum() \n",
    "\n",
    "den = df.groupby(df['DIANOM'])['Fecha-I'].count()\n",
    "\n",
    "tasa_dia = num/den"
   ]
  },
  {
   "cell_type": "code",
   "execution_count": 145,
   "metadata": {},
   "outputs": [
    {
     "data": {
      "text/plain": [
       "DIANOM\n",
       "Domingo      0.448448\n",
       "Jueves       0.447902\n",
       "Lunes        0.455730\n",
       "Martes       0.448665\n",
       "Miercoles    0.439004\n",
       "Sabado       0.451868\n",
       "Viernes      0.441702\n",
       "dtype: float64"
      ]
     },
     "execution_count": 145,
     "metadata": {},
     "output_type": "execute_result"
    }
   ],
   "source": [
    "tasa_dia"
   ]
  },
  {
   "cell_type": "code",
   "execution_count": 148,
   "metadata": {},
   "outputs": [],
   "source": [
    "#Tasa de atraso según temporada\n",
    "num = df.groupby(df['temporada_alta'])['atraso_15'].sum() \n",
    "\n",
    "den = df.groupby(df['temporada_alta'])['Fecha-I'].count()\n",
    "\n",
    "tasa_temporada = num/den"
   ]
  },
  {
   "cell_type": "code",
   "execution_count": 149,
   "metadata": {},
   "outputs": [
    {
     "data": {
      "text/plain": [
       "temporada_alta\n",
       "0    0.447859\n",
       "1    0.446832\n",
       "dtype: float64"
      ]
     },
     "execution_count": 149,
     "metadata": {},
     "output_type": "execute_result"
    }
   ],
   "source": [
    "tasa_temporada"
   ]
  },
  {
   "cell_type": "code",
   "execution_count": 151,
   "metadata": {},
   "outputs": [],
   "source": [
    "#Tasa de atraso según tipo de vuelo\n",
    "num = df.groupby(df['TIPOVUELO'])['atraso_15'].sum() \n",
    "\n",
    "den = df.groupby(df['TIPOVUELO'])['Fecha-I'].count()\n",
    "\n",
    "tasa_tipovuelo = num/den"
   ]
  },
  {
   "cell_type": "code",
   "execution_count": 152,
   "metadata": {},
   "outputs": [
    {
     "data": {
      "text/plain": [
       "TIPOVUELO\n",
       "I    0.492237\n",
       "N    0.409755\n",
       "dtype: float64"
      ]
     },
     "execution_count": 152,
     "metadata": {},
     "output_type": "execute_result"
    }
   ],
   "source": [
    "tasa_tipovuelo"
   ]
  },
  {
   "cell_type": "raw",
   "metadata": {},
   "source": [
    "Las variables que mejor captan diferencias en la tasa de atraso son destino, aerolinea y temporada. El resto captan muy poca variación por lo que en principio son malos predictores."
   ]
  },
  {
   "cell_type": "code",
   "execution_count": null,
   "metadata": {},
   "outputs": [],
   "source": []
  },
  {
   "cell_type": "code",
   "execution_count": null,
   "metadata": {},
   "outputs": [],
   "source": []
  },
  {
   "cell_type": "code",
   "execution_count": null,
   "metadata": {},
   "outputs": [],
   "source": []
  },
  {
   "cell_type": "code",
   "execution_count": null,
   "metadata": {},
   "outputs": [],
   "source": []
  },
  {
   "cell_type": "code",
   "execution_count": null,
   "metadata": {},
   "outputs": [],
   "source": []
  },
  {
   "cell_type": "code",
   "execution_count": null,
   "metadata": {},
   "outputs": [],
   "source": []
  },
  {
   "cell_type": "code",
   "execution_count": null,
   "metadata": {},
   "outputs": [],
   "source": []
  },
  {
   "cell_type": "code",
   "execution_count": 40,
   "metadata": {},
   "outputs": [
    {
     "data": {
      "text/html": [
       "<div>\n",
       "<style scoped>\n",
       "    .dataframe tbody tr th:only-of-type {\n",
       "        vertical-align: middle;\n",
       "    }\n",
       "\n",
       "    .dataframe tbody tr th {\n",
       "        vertical-align: top;\n",
       "    }\n",
       "\n",
       "    .dataframe thead th {\n",
       "        text-align: right;\n",
       "    }\n",
       "</style>\n",
       "<table border=\"1\" class=\"dataframe\">\n",
       "  <thead>\n",
       "    <tr style=\"text-align: right;\">\n",
       "      <th></th>\n",
       "      <th>Fecha-I_2017-01-01 00:15:00</th>\n",
       "      <th>Fecha-I_2017-01-01 01:15:00</th>\n",
       "      <th>Fecha-I_2017-01-01 01:23:00</th>\n",
       "      <th>Fecha-I_2017-01-01 01:33:00</th>\n",
       "      <th>Fecha-I_2017-01-01 01:42:00</th>\n",
       "      <th>Fecha-I_2017-01-01 02:05:00</th>\n",
       "      <th>Fecha-I_2017-01-01 03:20:00</th>\n",
       "      <th>Fecha-I_2017-01-01 05:15:00</th>\n",
       "      <th>Fecha-I_2017-01-01 05:50:00</th>\n",
       "      <th>Fecha-I_2017-01-01 05:51:00</th>\n",
       "      <th>...</th>\n",
       "      <th>SIGLADES_San Juan, Arg.</th>\n",
       "      <th>SIGLADES_Santa Cruz</th>\n",
       "      <th>SIGLADES_Sao Paulo</th>\n",
       "      <th>SIGLADES_Sydney</th>\n",
       "      <th>SIGLADES_Temuco</th>\n",
       "      <th>SIGLADES_Toronto</th>\n",
       "      <th>SIGLADES_Tucuman</th>\n",
       "      <th>SIGLADES_Ushuia</th>\n",
       "      <th>SIGLADES_Valdivia</th>\n",
       "      <th>SIGLADES_Washington</th>\n",
       "    </tr>\n",
       "  </thead>\n",
       "  <tbody>\n",
       "    <tr>\n",
       "      <th>0</th>\n",
       "      <td>0</td>\n",
       "      <td>0</td>\n",
       "      <td>0</td>\n",
       "      <td>0</td>\n",
       "      <td>0</td>\n",
       "      <td>0</td>\n",
       "      <td>0</td>\n",
       "      <td>0</td>\n",
       "      <td>0</td>\n",
       "      <td>0</td>\n",
       "      <td>...</td>\n",
       "      <td>0</td>\n",
       "      <td>0</td>\n",
       "      <td>0</td>\n",
       "      <td>0</td>\n",
       "      <td>0</td>\n",
       "      <td>0</td>\n",
       "      <td>0</td>\n",
       "      <td>0</td>\n",
       "      <td>0</td>\n",
       "      <td>0</td>\n",
       "    </tr>\n",
       "    <tr>\n",
       "      <th>1</th>\n",
       "      <td>0</td>\n",
       "      <td>0</td>\n",
       "      <td>0</td>\n",
       "      <td>0</td>\n",
       "      <td>0</td>\n",
       "      <td>0</td>\n",
       "      <td>0</td>\n",
       "      <td>0</td>\n",
       "      <td>0</td>\n",
       "      <td>0</td>\n",
       "      <td>...</td>\n",
       "      <td>0</td>\n",
       "      <td>0</td>\n",
       "      <td>0</td>\n",
       "      <td>0</td>\n",
       "      <td>0</td>\n",
       "      <td>0</td>\n",
       "      <td>0</td>\n",
       "      <td>0</td>\n",
       "      <td>0</td>\n",
       "      <td>0</td>\n",
       "    </tr>\n",
       "    <tr>\n",
       "      <th>2</th>\n",
       "      <td>0</td>\n",
       "      <td>0</td>\n",
       "      <td>0</td>\n",
       "      <td>0</td>\n",
       "      <td>0</td>\n",
       "      <td>0</td>\n",
       "      <td>0</td>\n",
       "      <td>0</td>\n",
       "      <td>0</td>\n",
       "      <td>0</td>\n",
       "      <td>...</td>\n",
       "      <td>0</td>\n",
       "      <td>0</td>\n",
       "      <td>0</td>\n",
       "      <td>0</td>\n",
       "      <td>0</td>\n",
       "      <td>0</td>\n",
       "      <td>0</td>\n",
       "      <td>0</td>\n",
       "      <td>0</td>\n",
       "      <td>0</td>\n",
       "    </tr>\n",
       "    <tr>\n",
       "      <th>3</th>\n",
       "      <td>0</td>\n",
       "      <td>0</td>\n",
       "      <td>0</td>\n",
       "      <td>0</td>\n",
       "      <td>0</td>\n",
       "      <td>0</td>\n",
       "      <td>0</td>\n",
       "      <td>0</td>\n",
       "      <td>0</td>\n",
       "      <td>0</td>\n",
       "      <td>...</td>\n",
       "      <td>0</td>\n",
       "      <td>0</td>\n",
       "      <td>0</td>\n",
       "      <td>0</td>\n",
       "      <td>0</td>\n",
       "      <td>0</td>\n",
       "      <td>0</td>\n",
       "      <td>0</td>\n",
       "      <td>0</td>\n",
       "      <td>0</td>\n",
       "    </tr>\n",
       "    <tr>\n",
       "      <th>4</th>\n",
       "      <td>0</td>\n",
       "      <td>0</td>\n",
       "      <td>0</td>\n",
       "      <td>0</td>\n",
       "      <td>0</td>\n",
       "      <td>0</td>\n",
       "      <td>0</td>\n",
       "      <td>0</td>\n",
       "      <td>0</td>\n",
       "      <td>0</td>\n",
       "      <td>...</td>\n",
       "      <td>0</td>\n",
       "      <td>0</td>\n",
       "      <td>0</td>\n",
       "      <td>0</td>\n",
       "      <td>0</td>\n",
       "      <td>0</td>\n",
       "      <td>0</td>\n",
       "      <td>0</td>\n",
       "      <td>0</td>\n",
       "      <td>0</td>\n",
       "    </tr>\n",
       "  </tbody>\n",
       "</table>\n",
       "<p>5 rows × 117757 columns</p>\n",
       "</div>"
      ],
      "text/plain": [
       "   Fecha-I_2017-01-01 00:15:00  Fecha-I_2017-01-01 01:15:00  \\\n",
       "0                            0                            0   \n",
       "1                            0                            0   \n",
       "2                            0                            0   \n",
       "3                            0                            0   \n",
       "4                            0                            0   \n",
       "\n",
       "   Fecha-I_2017-01-01 01:23:00  Fecha-I_2017-01-01 01:33:00  \\\n",
       "0                            0                            0   \n",
       "1                            0                            0   \n",
       "2                            0                            0   \n",
       "3                            0                            0   \n",
       "4                            0                            0   \n",
       "\n",
       "   Fecha-I_2017-01-01 01:42:00  Fecha-I_2017-01-01 02:05:00  \\\n",
       "0                            0                            0   \n",
       "1                            0                            0   \n",
       "2                            0                            0   \n",
       "3                            0                            0   \n",
       "4                            0                            0   \n",
       "\n",
       "   Fecha-I_2017-01-01 03:20:00  Fecha-I_2017-01-01 05:15:00  \\\n",
       "0                            0                            0   \n",
       "1                            0                            0   \n",
       "2                            0                            0   \n",
       "3                            0                            0   \n",
       "4                            0                            0   \n",
       "\n",
       "   Fecha-I_2017-01-01 05:50:00  Fecha-I_2017-01-01 05:51:00  ...  \\\n",
       "0                            0                            0  ...   \n",
       "1                            0                            0  ...   \n",
       "2                            0                            0  ...   \n",
       "3                            0                            0  ...   \n",
       "4                            0                            0  ...   \n",
       "\n",
       "   SIGLADES_San Juan, Arg.  SIGLADES_Santa Cruz  SIGLADES_Sao Paulo  \\\n",
       "0                        0                    0                   0   \n",
       "1                        0                    0                   0   \n",
       "2                        0                    0                   0   \n",
       "3                        0                    0                   0   \n",
       "4                        0                    0                   0   \n",
       "\n",
       "   SIGLADES_Sydney  SIGLADES_Temuco  SIGLADES_Toronto  SIGLADES_Tucuman  \\\n",
       "0                0                0                 0                 0   \n",
       "1                0                0                 0                 0   \n",
       "2                0                0                 0                 0   \n",
       "3                0                0                 0                 0   \n",
       "4                0                0                 0                 0   \n",
       "\n",
       "   SIGLADES_Ushuia  SIGLADES_Valdivia  SIGLADES_Washington  \n",
       "0                0                  0                    0  \n",
       "1                0                  0                    0  \n",
       "2                0                  0                    0  \n",
       "3                0                  0                    0  \n",
       "4                0                  0                    0  \n",
       "\n",
       "[5 rows x 117757 columns]"
      ]
     },
     "execution_count": 40,
     "metadata": {},
     "output_type": "execute_result"
    }
   ],
   "source": [
    "#pasar las categoricas a dummies\n",
    "#designar un indice antes!\n",
    "dataset_cat_dummy = pd.get_dummies(df.select_dtypes(\"category\"), prefix=df.select_dtypes(\"category\").columns)\n",
    "\n",
    "dataset_cat_dummy.head(5)"
   ]
  },
  {
   "cell_type": "code",
   "execution_count": null,
   "metadata": {},
   "outputs": [],
   "source": []
  },
  {
   "cell_type": "code",
   "execution_count": null,
   "metadata": {},
   "outputs": [],
   "source": []
  },
  {
   "cell_type": "code",
   "execution_count": null,
   "metadata": {},
   "outputs": [],
   "source": []
  },
  {
   "cell_type": "code",
   "execution_count": null,
   "metadata": {},
   "outputs": [],
   "source": []
  },
  {
   "cell_type": "code",
   "execution_count": null,
   "metadata": {},
   "outputs": [],
   "source": []
  },
  {
   "cell_type": "code",
   "execution_count": null,
   "metadata": {},
   "outputs": [],
   "source": []
  },
  {
   "cell_type": "code",
   "execution_count": null,
   "metadata": {},
   "outputs": [],
   "source": []
  },
  {
   "cell_type": "code",
   "execution_count": null,
   "metadata": {},
   "outputs": [],
   "source": []
  }
 ],
 "metadata": {
  "kernelspec": {
   "display_name": "Python 3",
   "language": "python",
   "name": "python3"
  },
  "language_info": {
   "codemirror_mode": {
    "name": "ipython",
    "version": 3
   },
   "file_extension": ".py",
   "mimetype": "text/x-python",
   "name": "python",
   "nbconvert_exporter": "python",
   "pygments_lexer": "ipython3",
   "version": "3.7.3"
  }
 },
 "nbformat": 4,
 "nbformat_minor": 2
}
